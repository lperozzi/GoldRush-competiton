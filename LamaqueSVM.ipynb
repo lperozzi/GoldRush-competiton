{
 "cells": [
  {
   "cell_type": "code",
   "execution_count": 31,
   "metadata": {
    "collapsed": false
   },
   "outputs": [],
   "source": [
    "%matplotlib inline\n",
    "\n",
    "import numpy as np\n",
    "import pandas as pd\n",
    "\n",
    "import random\n",
    "\n",
    "from sklearn.metrics import accuracy_score\n",
    "from sklearn.svm import SVC\n",
    "from sklearn.metrics.pairwise import euclidean_distances\n",
    "from sklearn.cross_validation import train_test_split\n",
    "\n",
    "import matplotlib.pyplot as plt\n",
    "import seaborn as sns"
   ]
  },
  {
   "cell_type": "markdown",
   "metadata": {},
   "source": [
    "# Preprocessing and exploratory visualization"
   ]
  },
  {
   "cell_type": "markdown",
   "metadata": {},
   "source": [
    "There is a minimal processing involving the raw data in order to clean, normalise, transform and extract the interesting feature form the raw data. "
   ]
  },
  {
   "cell_type": "markdown",
   "metadata": {},
   "source": [
    "### 1. Merged database"
   ]
  },
  {
   "cell_type": "markdown",
   "metadata": {},
   "source": [
    "The first step is to have a unique normalized database for geographical coordinates, variables as well as gold grades. This has been possible using the Leapfrog software and exporting a merged table"
   ]
  },
  {
   "cell_type": "code",
   "execution_count": 2,
   "metadata": {
    "collapsed": false,
    "scrolled": true
   },
   "outputs": [
    {
     "data": {
      "text/html": [
       "<div>\n",
       "<table border=\"1\" class=\"dataframe\">\n",
       "  <thead>\n",
       "    <tr style=\"text-align: right;\">\n",
       "      <th></th>\n",
       "      <th>X</th>\n",
       "      <th>Y</th>\n",
       "      <th>Z</th>\n",
       "      <th>CODE_STRUCT</th>\n",
       "      <th>LITHO_DESC</th>\n",
       "      <th>AU_AVG_GT</th>\n",
       "    </tr>\n",
       "    <tr>\n",
       "      <th>Hole Id</th>\n",
       "      <th></th>\n",
       "      <th></th>\n",
       "      <th></th>\n",
       "      <th></th>\n",
       "      <th></th>\n",
       "      <th></th>\n",
       "    </tr>\n",
       "  </thead>\n",
       "  <tbody>\n",
       "    <tr>\n",
       "      <th>#1</th>\n",
       "      <td>296149.710000</td>\n",
       "      <td>5331108.870000</td>\n",
       "      <td>310.7100</td>\n",
       "      <td>NaN</td>\n",
       "      <td>Casing</td>\n",
       "      <td>NaN</td>\n",
       "    </tr>\n",
       "    <tr>\n",
       "      <th>#1</th>\n",
       "      <td>296149.710000</td>\n",
       "      <td>5331108.870000</td>\n",
       "      <td>309.5700</td>\n",
       "      <td>NaN</td>\n",
       "      <td>Intermediate to Ultramafic Volcanics</td>\n",
       "      <td>NaN</td>\n",
       "    </tr>\n",
       "    <tr>\n",
       "      <th>#2</th>\n",
       "      <td>296156.177340</td>\n",
       "      <td>5331148.944062</td>\n",
       "      <td>311.5619</td>\n",
       "      <td>NaN</td>\n",
       "      <td>Intermediate to Ultramafic Volcanics</td>\n",
       "      <td>NaN</td>\n",
       "    </tr>\n",
       "    <tr>\n",
       "      <th>#2</th>\n",
       "      <td>296156.148082</td>\n",
       "      <td>5331148.218750</td>\n",
       "      <td>311.1428</td>\n",
       "      <td>NaN</td>\n",
       "      <td>Intermediate to Ultramafic Volcanics</td>\n",
       "      <td>0.0025</td>\n",
       "    </tr>\n",
       "    <tr>\n",
       "      <th>#2</th>\n",
       "      <td>296156.116164</td>\n",
       "      <td>5331147.427500</td>\n",
       "      <td>310.6856</td>\n",
       "      <td>NaN</td>\n",
       "      <td>Intermediate to Ultramafic Volcanics</td>\n",
       "      <td>0.0025</td>\n",
       "    </tr>\n",
       "  </tbody>\n",
       "</table>\n",
       "</div>"
      ],
      "text/plain": [
       "                     X               Y         Z CODE_STRUCT  \\\n",
       "Hole Id                                                        \n",
       "#1       296149.710000  5331108.870000  310.7100         NaN   \n",
       "#1       296149.710000  5331108.870000  309.5700         NaN   \n",
       "#2       296156.177340  5331148.944062  311.5619         NaN   \n",
       "#2       296156.148082  5331148.218750  311.1428         NaN   \n",
       "#2       296156.116164  5331147.427500  310.6856         NaN   \n",
       "\n",
       "                                   LITHO_DESC  AU_AVG_GT  \n",
       "Hole Id                                                   \n",
       "#1                                     Casing        NaN  \n",
       "#1       Intermediate to Ultramafic Volcanics        NaN  \n",
       "#2       Intermediate to Ultramafic Volcanics        NaN  \n",
       "#2       Intermediate to Ultramafic Volcanics     0.0025  \n",
       "#2       Intermediate to Ultramafic Volcanics     0.0025  "
      ]
     },
     "execution_count": 2,
     "metadata": {},
     "output_type": "execute_result"
    }
   ],
   "source": [
    "# Read the merged table exported from Leapfrog\n",
    "folder = 'data'\n",
    "df = pd.read_csv(folder+'/Leapfrog_export.csv')\n",
    "df = df.set_index(list(df)[3])\n",
    "df.head()"
   ]
  },
  {
   "cell_type": "markdown",
   "metadata": {},
   "source": [
    "The table exported from Leapfrog contains geographical coordinates (X,Y,Z), and raw variables (CODE_STRUCT, LITHO_DESC, AU_AVG_GT)"
   ]
  },
  {
   "cell_type": "markdown",
   "metadata": {},
   "source": [
    "### 2. Lithology and structural category"
   ]
  },
  {
   "cell_type": "markdown",
   "metadata": {},
   "source": [
    "Then, each string variables is transformed in a categorical variable. For example, the CODE_STRUCT variable has 3 descriptions (nan,'CIS','FAI') corresponding to 3 categories (0,1,2)..."
   ]
  },
  {
   "cell_type": "code",
   "execution_count": 3,
   "metadata": {
    "collapsed": false
   },
   "outputs": [],
   "source": [
    "##Structure category: CIS (cisaillement) & FAI (faille)\n",
    "struct = pd.unique(df.CODE_STRUCT.ravel()) \n",
    "struct_dict = {value: key for (key, value) in enumerate(struct)}\n",
    "\n",
    "df['STRUCT_CAT'] = df['CODE_STRUCT'].apply(lambda x: struct_dict[x])\n",
    "df['STRUCT_CAT'] = df.STRUCT_CAT.replace(0, np.nan)"
   ]
  },
  {
   "cell_type": "markdown",
   "metadata": {},
   "source": [
    "... and the LITHO_DESC has 17 descriptions corresponding to 17 categories."
   ]
  },
  {
   "cell_type": "code",
   "execution_count": 4,
   "metadata": {
    "collapsed": false,
    "scrolled": false
   },
   "outputs": [
    {
     "name": "stdout",
     "output_type": "stream",
     "text": [
      "0 Casing\n",
      "1 Intermediate to Ultramafic Volcanics\n",
      "2 Indifferenciated Tuffs\n",
      "3 Early Diorite\n",
      "4 Felsic to Intermediate Dykes\n",
      "5 Shear Zone\n",
      "6 Diorite\n",
      "7 nan\n",
      "8 Diabase\n",
      "9 No Litho\n",
      "10 Felsic Volcanics\n",
      "11 Quartz-Tourmaline Veins\n",
      "12 Porphyric Granodiorite\n",
      "13 Granodiorite\n",
      "14 Mafic Dykes\n",
      "15 Fault\n",
      "16 Early Quartz Diorite\n"
     ]
    },
    {
     "data": {
      "text/html": [
       "<div>\n",
       "<table border=\"1\" class=\"dataframe\">\n",
       "  <thead>\n",
       "    <tr style=\"text-align: right;\">\n",
       "      <th></th>\n",
       "      <th>X</th>\n",
       "      <th>Y</th>\n",
       "      <th>Z</th>\n",
       "      <th>CODE_STRUCT</th>\n",
       "      <th>LITHO_DESC</th>\n",
       "      <th>AU_AVG_GT</th>\n",
       "      <th>STRUCT_CAT</th>\n",
       "      <th>LITHO_CAT</th>\n",
       "    </tr>\n",
       "    <tr>\n",
       "      <th>Hole Id</th>\n",
       "      <th></th>\n",
       "      <th></th>\n",
       "      <th></th>\n",
       "      <th></th>\n",
       "      <th></th>\n",
       "      <th></th>\n",
       "      <th></th>\n",
       "      <th></th>\n",
       "    </tr>\n",
       "  </thead>\n",
       "  <tbody>\n",
       "    <tr>\n",
       "      <th>#1</th>\n",
       "      <td>296149.710000</td>\n",
       "      <td>5331108.870000</td>\n",
       "      <td>310.7100</td>\n",
       "      <td>NaN</td>\n",
       "      <td>Casing</td>\n",
       "      <td>NaN</td>\n",
       "      <td>NaN</td>\n",
       "      <td>0</td>\n",
       "    </tr>\n",
       "    <tr>\n",
       "      <th>#1</th>\n",
       "      <td>296149.710000</td>\n",
       "      <td>5331108.870000</td>\n",
       "      <td>309.5700</td>\n",
       "      <td>NaN</td>\n",
       "      <td>Intermediate to Ultramafic Volcanics</td>\n",
       "      <td>NaN</td>\n",
       "      <td>NaN</td>\n",
       "      <td>1</td>\n",
       "    </tr>\n",
       "    <tr>\n",
       "      <th>#2</th>\n",
       "      <td>296156.177340</td>\n",
       "      <td>5331148.944062</td>\n",
       "      <td>311.5619</td>\n",
       "      <td>NaN</td>\n",
       "      <td>Intermediate to Ultramafic Volcanics</td>\n",
       "      <td>NaN</td>\n",
       "      <td>NaN</td>\n",
       "      <td>1</td>\n",
       "    </tr>\n",
       "    <tr>\n",
       "      <th>#2</th>\n",
       "      <td>296156.148082</td>\n",
       "      <td>5331148.218750</td>\n",
       "      <td>311.1428</td>\n",
       "      <td>NaN</td>\n",
       "      <td>Intermediate to Ultramafic Volcanics</td>\n",
       "      <td>0.0025</td>\n",
       "      <td>NaN</td>\n",
       "      <td>1</td>\n",
       "    </tr>\n",
       "    <tr>\n",
       "      <th>#2</th>\n",
       "      <td>296156.116164</td>\n",
       "      <td>5331147.427500</td>\n",
       "      <td>310.6856</td>\n",
       "      <td>NaN</td>\n",
       "      <td>Intermediate to Ultramafic Volcanics</td>\n",
       "      <td>0.0025</td>\n",
       "      <td>NaN</td>\n",
       "      <td>1</td>\n",
       "    </tr>\n",
       "  </tbody>\n",
       "</table>\n",
       "</div>"
      ],
      "text/plain": [
       "                     X               Y         Z CODE_STRUCT  \\\n",
       "Hole Id                                                        \n",
       "#1       296149.710000  5331108.870000  310.7100         NaN   \n",
       "#1       296149.710000  5331108.870000  309.5700         NaN   \n",
       "#2       296156.177340  5331148.944062  311.5619         NaN   \n",
       "#2       296156.148082  5331148.218750  311.1428         NaN   \n",
       "#2       296156.116164  5331147.427500  310.6856         NaN   \n",
       "\n",
       "                                   LITHO_DESC  AU_AVG_GT  STRUCT_CAT  \\\n",
       "Hole Id                                                                \n",
       "#1                                     Casing        NaN         NaN   \n",
       "#1       Intermediate to Ultramafic Volcanics        NaN         NaN   \n",
       "#2       Intermediate to Ultramafic Volcanics        NaN         NaN   \n",
       "#2       Intermediate to Ultramafic Volcanics     0.0025         NaN   \n",
       "#2       Intermediate to Ultramafic Volcanics     0.0025         NaN   \n",
       "\n",
       "         LITHO_CAT  \n",
       "Hole Id             \n",
       "#1               0  \n",
       "#1               1  \n",
       "#2               1  \n",
       "#2               1  \n",
       "#2               1  "
      ]
     },
     "execution_count": 4,
     "metadata": {},
     "output_type": "execute_result"
    }
   ],
   "source": [
    "#Lithology description: \n",
    "litho = pd.unique(df.LITHO_DESC.ravel())\n",
    "litho_dict = {value: key for (key, value) in enumerate(litho)}\n",
    "\n",
    "for k,v in enumerate(litho):\n",
    "    print k,v\n",
    "\n",
    "df['LITHO_CAT'] = df['LITHO_DESC'].apply(lambda x: litho_dict[x])\n",
    "df['LITHO_CAT'] = df.LITHO_CAT.replace([9,7], np.nan)\n",
    "df.head()"
   ]
  },
  {
   "cell_type": "markdown",
   "metadata": {},
   "source": [
    "### 3. Exploratory visualization"
   ]
  },
  {
   "cell_type": "markdown",
   "metadata": {},
   "source": [
    "Once we have the normalized raw database we can start doing some exploratory statistics visualization. For this end, we first extract the data for Lamaque site as all our analysis is done on the Lamaque plug dataset.\n",
    "\n",
    "\n"
   ]
  },
  {
   "cell_type": "code",
   "execution_count": 5,
   "metadata": {
    "collapsed": true
   },
   "outputs": [],
   "source": [
    "#Lamaque site\n",
    "limitl_x = [293500,295000]\n",
    "limitl_y = [5320950,5331000]\n",
    "\n",
    "lamaque = df[(df['X'] < limitl_x[1]) & (df['X'] > limitl_x[0])]\n",
    "lamaque = lamaque[(lamaque['Y'] < limitl_y[1]) & (lamaque['Y'] > limitl_y[0])]"
   ]
  },
  {
   "cell_type": "markdown",
   "metadata": {},
   "source": [
    "- Plot the relationship between AU_AVG_GT and LITHO_DESC"
   ]
  },
  {
   "cell_type": "code",
   "execution_count": 6,
   "metadata": {
    "collapsed": false
   },
   "outputs": [
    {
     "name": "stderr",
     "output_type": "stream",
     "text": [
      "/Users/lorenzoperozzi/anaconda2/lib/python2.7/site-packages/matplotlib/__init__.py:892: UserWarning: axes.color_cycle is deprecated and replaced with axes.prop_cycle; please use the latter.\n",
      "  warnings.warn(self.msg_depr % (key, alt_key))\n"
     ]
    },
    {
     "data": {
      "image/png": "[encoded data removed]",
      "text/plain": [
       "<matplotlib.figure.Figure at 0x10e85a8d0>"
      ]
     },
     "metadata": {},
     "output_type": "display_data"
    }
   ],
   "source": [
    "f, (ax) = plt.subplots(1,figsize=(8,4))            \n",
    "sns.stripplot(y=\"LITHO_DESC\", x=\"AU_AVG_GT\", data=lamaque, jitter=False, size=8,\n",
    "              edgecolor=\"gray\", alpha=.5, ax=ax);\n",
    "ax.set_xlim(-100,) \n",
    "plt.tight_layout()"
   ]
  },
  {
   "cell_type": "markdown",
   "metadata": {},
   "source": [
    "- And the relationship between AU_AVG_GT and CODE_STRUCT"
   ]
  },
  {
   "cell_type": "code",
   "execution_count": 7,
   "metadata": {
    "collapsed": false
   },
   "outputs": [
    {
     "data": {
      "image/png": "[encoded data removed]",
      "text/plain": [
       "<matplotlib.figure.Figure at 0x102bc3610>"
      ]
     },
     "metadata": {},
     "output_type": "display_data"
    }
   ],
   "source": [
    "f, (ax) = plt.subplots(1,figsize=(5,4))            \n",
    "sns.stripplot(y=\"CODE_STRUCT\", x=\"AU_AVG_GT\", data=lamaque, jitter=False, size=8,\n",
    "              edgecolor=\"gray\", alpha=.5, ax=ax);\n",
    "ax.set_xlim(-100,) \n",
    "plt.tight_layout()\n",
    "f.savefig('img/Lamaque_codeVSgld.png',dpi=300)\n"
   ]
  },
  {
   "cell_type": "markdown",
   "metadata": {},
   "source": [
    "Starting form this two plot we can observe that there is a strong relationship between shear zone (CIS) and the gold grades as well as between Diorite, Granodiorite and gold grades.\n",
    "\n",
    "The next step is to extract those features. For this end, I've computed the distance of each database point to the closest shear zone, as well as diorite and granodiorite lithology point using an euclidean distance approach."
   ]
  },
  {
   "cell_type": "markdown",
   "metadata": {},
   "source": [
    "### 4. Variable extraction"
   ]
  },
  {
   "cell_type": "code",
   "execution_count": null,
   "metadata": {
    "collapsed": true
   },
   "outputs": [],
   "source": [
    "# database coordinate extraction\n",
    "points = df[['X','Y','Z']]\n",
    "points = points.as_matrix()"
   ]
  },
  {
   "cell_type": "markdown",
   "metadata": {},
   "source": [
    "#### DISTANCE_TO_SHEAR variable"
   ]
  },
  {
   "cell_type": "code",
   "execution_count": null,
   "metadata": {
    "collapsed": true
   },
   "outputs": [],
   "source": [
    "shear = df[df['CODE_STRUCT'] == 'CIS']\n",
    "shear = shear[['X','Y','Z']]\n",
    "shear_array = shear.as_matrix()\n",
    "\n",
    "dist_fault = []\n",
    "for c in points:\n",
    "    d = euclidean_distances(c, shear_array)\n",
    "    d = np.min(d)\n",
    "    dist_fault.append(d)\n",
    "    \n",
    "df.loc[:,'DISTANCE_TO_FAULT'] = pd.Series(dist_fault, index=df.index)\n",
    "df['DISTANCE_TO_FAULT'] = df['DISTANCE_TO_FAULT'].astype(float)"
   ]
  },
  {
   "cell_type": "markdown",
   "metadata": {},
   "source": [
    "#### DISTANCE_TO_DIORITE variable"
   ]
  },
  {
   "cell_type": "code",
   "execution_count": null,
   "metadata": {
    "collapsed": true
   },
   "outputs": [],
   "source": [
    "diorite = df[df['LITHO_DESC'] == 'Diorite']\n",
    "diorite = diorite[['X','Y','Z']]\n",
    "diorite = diorite.as_matrix()\n",
    "\n",
    "dist_diorite = []\n",
    "for c in points:\n",
    "    d = euclidean_distances(c, diorite)\n",
    "    d = np.min(d)\n",
    "    dist_diorite.append(d)\n",
    "    \n",
    "\n",
    "df.loc[:,'DISTANCE_TO_DIORITE'] = pd.Series(dist_diorite, index=df.index)\n",
    "df['DISTANCE_TO_DIORITE'] = df['DISTANCE_TO_DIORITE'].astype(float)"
   ]
  },
  {
   "cell_type": "markdown",
   "metadata": {},
   "source": [
    "#### DISTANCE_TO_GRANODIORITE variable"
   ]
  },
  {
   "cell_type": "code",
   "execution_count": null,
   "metadata": {
    "collapsed": true
   },
   "outputs": [],
   "source": [
    "granodiorite = df[df['LITHO_DESC'] == 'Granodiorite']\n",
    "granodiorite = granodiorite[['X','Y','Z']]\n",
    "granodiorite = granodiorite.as_matrix()\n",
    "\n",
    "dist_granodiorite = []\n",
    "for c in points:\n",
    "    d = euclidean_distances(c, granodiorite)\n",
    "    d = np.min(d)\n",
    "    dist_granodiorite.append(d)\n",
    "    \n",
    "\n",
    "df.loc[:,'DISTANCE_TO_GRANODIORITE'] = pd.Series(dist_granodiorite, index=df.index)\n",
    "df['DISTANCE_TO_GRANODIORITE'] = df['DISTANCE_TO_GRANODIORITE'].astype(float)"
   ]
  },
  {
   "cell_type": "markdown",
   "metadata": {},
   "source": [
    "Another important feature that is worth to implement in the analysis is the distance to the gold (AU_AVG_GT) as an index to be in the mineralization."
   ]
  },
  {
   "cell_type": "markdown",
   "metadata": {},
   "source": [
    "#### DISTANCE_TO_GLD variable"
   ]
  },
  {
   "cell_type": "code",
   "execution_count": null,
   "metadata": {
    "collapsed": true
   },
   "outputs": [],
   "source": [
    "gold = df[df['AU_AVG_GT'] >= 5]\n",
    "gold = gold[['X','Y','Z']]\n",
    "gold = gold.as_matrix()\n",
    "\n",
    "dist_gld = []\n",
    "for c in points:\n",
    "    d = euclidean_distances(c, gold)\n",
    "    d = np.min(d)\n",
    "    dist_gld.append(d)\n",
    "    \n",
    "\n",
    "df.loc[:,'DISTANCE_TO_GLD'] = pd.Series(dist_gld, index=df.index)\n",
    "df['DISTANCE_TO_GLD'] = df['DISTANCE_TO_GLD'].astype(float)\n",
    "\n"
   ]
  },
  {
   "cell_type": "markdown",
   "metadata": {},
   "source": [
    "The computation of those variables is very time comsuming."
   ]
  },
  {
   "cell_type": "markdown",
   "metadata": {},
   "source": [
    "### 5. AU_AVG_GT categories"
   ]
  },
  {
   "cell_type": "markdown",
   "metadata": {},
   "source": [
    "The last step before obtaining the final database is to class the AU_AVG_GT variable into classes. I've choose 5 classes: very poor (< 0.1 g/t), poor (0.1-1 g/t), medium (1-5 g/t), high (5-50 g/t), very high (> 50 g/t) "
   ]
  },
  {
   "cell_type": "code",
   "execution_count": null,
   "metadata": {
    "collapsed": true
   },
   "outputs": [],
   "source": [
    "# select only AU_AVG_GT that are notnull\n",
    "df = df[df['AU_AVG_GT'].notnull() & df['AU_AVG_GT'] != 0]\n",
    "mybins = np.array([0.0,0.1,1,5,50,26314])\n",
    "\n",
    "# separate AU_AVG_GT into 5 classes\n",
    "df['AU_CLASS'] = pd.cut(df['AU_AVG_GT'], mybins, labels=[\"very poor\",\"poor\",\"medium\",\"rich\",\"very rich\"])\n",
    "\n",
    "df['AU_CLASS_CAT'] = pd.cut(df['AU_AVG_GT'], mybins, labels=[1,2,3,4,5])\n",
    "df['AU_CLASS_CAT'] = df['AU_CLASS_CAT'].astype(int)"
   ]
  },
  {
   "cell_type": "code",
   "execution_count": null,
   "metadata": {
    "collapsed": true
   },
   "outputs": [],
   "source": [
    "######  SAVING TO DISK  ########################\n",
    "df.to_csv('data/lamaque_processed_categories.csv',columns=['X','Y','Z','DISTANCE_TO_FAULT','DISTANCE_TO_DIORITE','DISTANCE_TO_GRANODIORITE','DISTANCE_TO_GLD','AU_CLASS_CAT'])"
   ]
  },
  {
   "cell_type": "markdown",
   "metadata": {},
   "source": [
    "### 6. Final database\n",
    "\n",
    "The final database contain the following variables:"
   ]
  },
  {
   "cell_type": "code",
   "execution_count": 25,
   "metadata": {
    "collapsed": false
   },
   "outputs": [
    {
     "data": {
      "text/html": [
       "<div>\n",
       "<table border=\"1\" class=\"dataframe\">\n",
       "  <thead>\n",
       "    <tr style=\"text-align: right;\">\n",
       "      <th></th>\n",
       "      <th>Unnamed: 0</th>\n",
       "      <th>X</th>\n",
       "      <th>Y</th>\n",
       "      <th>Z</th>\n",
       "      <th>DISTANCE_TO_FAULT</th>\n",
       "      <th>DISTANCE_TO_DIORITE</th>\n",
       "      <th>DISTANCE_TO_GRANODIORITE</th>\n",
       "      <th>DISTANCE_TO_GLD</th>\n",
       "      <th>AU_CLASS_CAT</th>\n",
       "    </tr>\n",
       "  </thead>\n",
       "  <tbody>\n",
       "    <tr>\n",
       "      <th>0</th>\n",
       "      <td>0</td>\n",
       "      <td>294789.983451</td>\n",
       "      <td>5330979.09943</td>\n",
       "      <td>-88.898023</td>\n",
       "      <td>8.984796</td>\n",
       "      <td>36.649096</td>\n",
       "      <td>94.921472</td>\n",
       "      <td>27.281304</td>\n",
       "      <td>1</td>\n",
       "    </tr>\n",
       "    <tr>\n",
       "      <th>1</th>\n",
       "      <td>1</td>\n",
       "      <td>294788.887730</td>\n",
       "      <td>5330976.94617</td>\n",
       "      <td>-83.471563</td>\n",
       "      <td>3.045232</td>\n",
       "      <td>32.375965</td>\n",
       "      <td>93.129404</td>\n",
       "      <td>27.629878</td>\n",
       "      <td>1</td>\n",
       "    </tr>\n",
       "    <tr>\n",
       "      <th>2</th>\n",
       "      <td>2</td>\n",
       "      <td>294788.326035</td>\n",
       "      <td>5330975.84235</td>\n",
       "      <td>-80.689817</td>\n",
       "      <td>0.000000</td>\n",
       "      <td>30.403279</td>\n",
       "      <td>92.345437</td>\n",
       "      <td>28.247995</td>\n",
       "      <td>1</td>\n",
       "    </tr>\n",
       "    <tr>\n",
       "      <th>3</th>\n",
       "      <td>3</td>\n",
       "      <td>294788.016134</td>\n",
       "      <td>5330975.23335</td>\n",
       "      <td>-79.155061</td>\n",
       "      <td>1.679379</td>\n",
       "      <td>29.393345</td>\n",
       "      <td>91.953283</td>\n",
       "      <td>28.152278</td>\n",
       "      <td>1</td>\n",
       "    </tr>\n",
       "    <tr>\n",
       "      <th>4</th>\n",
       "      <td>4</td>\n",
       "      <td>294805.874468</td>\n",
       "      <td>5330974.53604</td>\n",
       "      <td>-89.376688</td>\n",
       "      <td>18.268291</td>\n",
       "      <td>47.392065</td>\n",
       "      <td>103.988806</td>\n",
       "      <td>11.160582</td>\n",
       "      <td>1</td>\n",
       "    </tr>\n",
       "  </tbody>\n",
       "</table>\n",
       "</div>"
      ],
      "text/plain": [
       "   Unnamed: 0              X              Y          Z  DISTANCE_TO_FAULT  \\\n",
       "0           0  294789.983451  5330979.09943 -88.898023           8.984796   \n",
       "1           1  294788.887730  5330976.94617 -83.471563           3.045232   \n",
       "2           2  294788.326035  5330975.84235 -80.689817           0.000000   \n",
       "3           3  294788.016134  5330975.23335 -79.155061           1.679379   \n",
       "4           4  294805.874468  5330974.53604 -89.376688          18.268291   \n",
       "\n",
       "   DISTANCE_TO_DIORITE  DISTANCE_TO_GRANODIORITE  DISTANCE_TO_GLD  \\\n",
       "0            36.649096                 94.921472        27.281304   \n",
       "1            32.375965                 93.129404        27.629878   \n",
       "2            30.403279                 92.345437        28.247995   \n",
       "3            29.393345                 91.953283        28.152278   \n",
       "4            47.392065                103.988806        11.160582   \n",
       "\n",
       "   AU_CLASS_CAT  \n",
       "0             1  \n",
       "1             1  \n",
       "2             1  \n",
       "3             1  \n",
       "4             1  "
      ]
     },
     "execution_count": 25,
     "metadata": {},
     "output_type": "execute_result"
    }
   ],
   "source": [
    "data = 'data'\n",
    "lamaque = pd.read_csv(data+'/lamaque_processed_categories.csv')\n",
    "lamaque.head()"
   ]
  },
  {
   "cell_type": "markdown",
   "metadata": {},
   "source": [
    "Starting from this databse we can now apply support learning machine to predict gold grades from x,y,z, DISTANCE_TO_FAULT, DISTANCE_TO_DIORITE, DISTANCE_TO_GRANODIORITE, DISTANCE_TO_GOLD"
   ]
  },
  {
   "cell_type": "markdown",
   "metadata": {},
   "source": [
    "# SUPPORT VECTOR MACHINE analysis\n",
    "\n",
    "For doing a proper machine learning analysis we need a set of data to train our model and a test data to predict the efficacity of the model. In data science is pretty standard to split the entire data set in 80/20. Thant means to have 80 % of the data set for training and 20% for testing. As other classifiers, SVC take as input two arrays: an array X of size  holding the training samples, and an array y of class labels."
   ]
  },
  {
   "cell_type": "code",
   "execution_count": 26,
   "metadata": {
    "collapsed": false
   },
   "outputs": [],
   "source": [
    "rows = random.sample(lamaque.index, int(0.05*len(lamaque)))\n",
    "lamaque = lamaque.ix[rows]\n",
    "\n",
    "X = lamaque.as_matrix(columns=['X','Y','Z','DISTANCE_TO_FAULT','DISTANCE_TO_DIORITE','DISTANCE_TO_GRANODIORITE','DISTANCE_TO_GLD'])\n",
    "Y = lamaque['AU_CLASS_CAT'].values.tolist()\n",
    "Y = np.asarray(Y)\n",
    "# Split the data set in 80/20 proportion\n",
    "X_train , X_test, Y_train, Y_test = train_test_split(X,Y,test_size=0.2, random_state=42)"
   ]
  },
  {
   "cell_type": "markdown",
   "metadata": {},
   "source": [
    "After splitting we obtain a training data set of size:"
   ]
  },
  {
   "cell_type": "code",
   "execution_count": 27,
   "metadata": {
    "collapsed": false
   },
   "outputs": [
    {
     "name": "stdout",
     "output_type": "stream",
     "text": [
      "14664\n"
     ]
    }
   ],
   "source": [
    "print(len(X_train))"
   ]
  },
  {
   "cell_type": "markdown",
   "metadata": {},
   "source": [
    "and a test data set of size:"
   ]
  },
  {
   "cell_type": "code",
   "execution_count": 28,
   "metadata": {
    "collapsed": false
   },
   "outputs": [
    {
     "name": "stdout",
     "output_type": "stream",
     "text": [
      "3666\n"
     ]
    }
   ],
   "source": [
    "print(len(X_test))"
   ]
  },
  {
   "cell_type": "markdown",
   "metadata": {},
   "source": [
    "We train our model..."
   ]
  },
  {
   "cell_type": "code",
   "execution_count": 29,
   "metadata": {
    "collapsed": false
   },
   "outputs": [
    {
     "data": {
      "text/plain": [
       "SVC(C=1.0, cache_size=200, class_weight=None, coef0=0.0, degree=3, gamma=0.0,\n",
       "  kernel='rbf', max_iter=-1, probability=False, random_state=None,\n",
       "  shrinking=True, tol=0.001, verbose=False)"
      ]
     },
     "execution_count": 29,
     "metadata": {},
     "output_type": "execute_result"
    }
   ],
   "source": [
    "clf = SVC()\n",
    "clf.fit(X_train, Y_train)"
   ]
  },
  {
   "cell_type": "markdown",
   "metadata": {},
   "source": [
    "And we can finally compute the accuracy score on our prediction"
   ]
  },
  {
   "cell_type": "code",
   "execution_count": 30,
   "metadata": {
    "collapsed": false
   },
   "outputs": [
    {
     "name": "stdout",
     "output_type": "stream",
     "text": [
      "SVC prediction error on test set for Lamaque dataset is 0.676486633933\n"
     ]
    }
   ],
   "source": [
    "# errors on test set & sparsity\n",
    "svc_error = np.sum(Y_test!=clf.predict(X_test)) / len(Y_test)\n",
    "Y_pred = clf.predict(X_test)\n",
    "accuracy_score = accuracy_score(Y_test, Y_pred)\n",
    "svc_message = \"SVC prediction error on test set for Lamaque dataset is {0}\"\n",
    "print svc_message.format(accuracy_score)"
   ]
  }
 ],
 "metadata": {
  "kernelspec": {
   "display_name": "Python 2",
   "language": "python",
   "name": "python2"
  },
  "language_info": {
   "codemirror_mode": {
    "name": "ipython",
    "version": 2
   },
   "file_extension": ".py",
   "mimetype": "text/x-python",
   "name": "python",
   "nbconvert_exporter": "python",
   "pygments_lexer": "ipython2",
   "version": "2.7.10"
  }
 },
 "nbformat": 4,
 "nbformat_minor": 0
}
